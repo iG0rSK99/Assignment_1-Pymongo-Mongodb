{
 "cells": [
  {
   "cell_type": "markdown",
   "id": "8b4fa04b",
   "metadata": {},
   "source": [
    "## Assignment 1\n",
    "**Deadline**: 8th December 2024\n",
    "\n",
    "This assessment consists of 20 MongoDB queries, ranging from easy to hard. You are required to use the following sample data:\n",
    "\n",
    "```json\n",
    "{\n",
    "    \"students\": [\n",
    "        {\"name\": \"Rohit\", \"age\": 23, \"math_score\": 85, \"physics_score\": 90, \"city\": \"New York\"},\n",
    "        {\"name\": \"Eram\", \"age\": 22, \"math_score\": 78, \"physics_score\": 75, \"city\": \"Los Angeles\"},\n",
    "        {\"name\": \"Madan\", \"age\": 24, \"math_score\": 95, \"physics_score\": 88, \"city\": \"Chicago\"},\n",
    "        {\"name\": \"Uvaish\", \"age\": 21, \"math_score\": 60, \"physics_score\": 65, \"city\": \"Houston\"},\n",
    "        {\"name\": \"Neha\", \"age\": 23, \"math_score\": 72, \"physics_score\": 80, \"city\": \"Phoenix\"}\n",
    "    ]\n",
    "}\n",
    "\n",
    "```\n",
    "\n",
    "Please submit your solutions by the given deadline.\n"
   ]
  },
  {
   "cell_type": "markdown",
   "id": "3e733b76",
   "metadata": {},
   "source": [
    "1. Insert the given sample data into a MongoDB collection called 'students'."
   ]
  },
  {
   "cell_type": "code",
   "execution_count": null,
   "id": "03d2d6e6",
   "metadata": {},
   "outputs": [],
   "source": [
    "import pymongo\n",
    "\n",
    "client=pymongo.MongoClient('mongodb://localhost:27017/')\n",
    "\n",
    "mydb=client['students']\n",
    "stuinfo=mydb.studentsinformation\n"
   ]
  },
  {
   "cell_type": "code",
   "execution_count": null,
   "id": "52aa4434",
   "metadata": {},
   "outputs": [],
   "source": [
    "record=[\n",
    "        {\"name\": \"Rohit\", \"age\": 23, \"math_score\": 85, \"physics_score\": 90, \"city\": \"New York\"},\n",
    "        {\"name\": \"Eram\", \"age\": 22, \"math_score\": 78, \"physics_score\": 75, \"city\": \"Los Angeles\"},\n",
    "        {\"name\": \"Madan\", \"age\": 24, \"math_score\": 95, \"physics_score\": 88, \"city\": \"Chicago\"},                                                  \n",
    "        {\"name\": \"Uvaish\", \"age\": 21, \"math_score\": 60, \"physics_score\": 65, \"city\": \"Houston\"},\n",
    "        {\"name\": \"Neha\", \"age\": 23, \"math_score\": 72, \"physics_score\": 80, \"city\": \"Phoenix\"}\n",
    "]\n",
    "\n",
    "stuinfo.insert_many(record)"
   ]
  },
  {
   "cell_type": "markdown",
   "id": "c63a46c2",
   "metadata": {},
   "source": [
    "2. Write a query to find all students who have a 'math_score' greater than 80."
   ]
  },
  {
   "cell_type": "code",
   "execution_count": null,
   "id": "2a6ca4b7",
   "metadata": {},
   "outputs": [],
   "source": [
    "for student in stuinfo.find({'math_score':{'$gt':80}},{'physics_score': 0, 'city': 0}):\n",
    "    print(student)"
   ]
  },
  {
   "cell_type": "markdown",
   "id": "f965853a",
   "metadata": {},
   "source": [
    "3. Write a query to find students whose 'age' is less than 23."
   ]
  },
  {
   "cell_type": "code",
   "execution_count": null,
   "id": "6140e412",
   "metadata": {},
   "outputs": [],
   "source": [
    "for student in stuinfo.find({'age':{\"$lt\":23}},{'math_score': 0, 'physics_score': 0, 'city': 0}):\n",
    "    print(student)"
   ]
  },
  {
   "cell_type": "markdown",
   "id": "88005dde",
   "metadata": {},
   "source": [
    "4. Write a query to return only the 'name' and 'math_score' of all students."
   ]
  },
  {
   "cell_type": "code",
   "execution_count": null,
   "id": "b274135f",
   "metadata": {},
   "outputs": [],
   "source": [
    "for student in stuinfo.find({}, {\"name\": 1, \"math_score\": 1, \"_id\": 0}):\n",
    "    print(student)"
   ]
  },
  {
   "cell_type": "markdown",
   "id": "7a148d48",
   "metadata": {},
   "source": [
    "5. Write a query to find students from the city 'New York'."
   ]
  },
  {
   "cell_type": "code",
   "execution_count": null,
   "id": "2acedafc",
   "metadata": {},
   "outputs": [],
   "source": [
    "for student in stuinfo.find({\"city\": \"New York\"}):\n",
    "    print(student)"
   ]
  },
  {
   "cell_type": "markdown",
   "id": "aaa6f033",
   "metadata": {},
   "source": [
    "6. Write a query to update the 'physics_score' of 'Bob' to 85."
   ]
  },
  {
   "cell_type": "code",
   "execution_count": null,
   "id": "ae4d1f5f",
   "metadata": {},
   "outputs": [],
   "source": [
    "stuinfo.update_one(\n",
    "{\"name\":\"Bob\"},\n",
    "{\"$set\":{\"physics_score\":85}}\n",
    ")"
   ]
  },
  {
   "cell_type": "markdown",
   "id": "1df67d31",
   "metadata": {},
   "source": [
    "7. Write a query to delete the student 'David' from the collection."
   ]
  },
  {
   "cell_type": "code",
   "execution_count": null,
   "id": "293c2347",
   "metadata": {},
   "outputs": [],
   "source": [
    "stuinfo.delete_one(\n",
    "    {\"name\":\"David\"}\n",
    ")"
   ]
  },
  {
   "cell_type": "markdown",
   "id": "ad535a0b",
   "metadata": {},
   "source": [
    "8. Write a query to find all students where 'math_score' is between 70 and 90 (inclusive)."
   ]
  },
  {
   "cell_type": "code",
   "execution_count": null,
   "id": "6a3c58a8",
   "metadata": {},
   "outputs": [],
   "source": [
    "for student in stuinfo.find({\"math_score\" : {'$gt': 70 , \"$lt\" : 90}}):\n",
    "    print(student)"
   ]
  },
  {
   "cell_type": "markdown",
   "id": "cfb2950f",
   "metadata": {},
   "source": [
    "9. Write a query to find students whose 'math_score' is greater than 'physics_score'."
   ]
  },
  {
   "cell_type": "code",
   "execution_count": null,
   "id": "ac170ca2",
   "metadata": {},
   "outputs": [],
   "source": [
    "for student in stuinfo.find({\"$expr\": {\"$gt\": [\"$math_score\", \"$physics_score\"]}}):\n",
    "    print(student)"
   ]
  },
  {
   "cell_type": "markdown",
   "id": "cebc3d1a",
   "metadata": {},
   "source": [
    "10. Write a query to return students sorted by 'math_score' in descending order."
   ]
  },
  {
   "cell_type": "code",
   "execution_count": null,
   "id": "1b44a3bd",
   "metadata": {},
   "outputs": [],
   "source": [
    "for students in stuinfo.find().sort(\"math_score\", -1):\n",
    "    print(students)"
   ]
  },
  {
   "cell_type": "markdown",
   "id": "be69f913",
   "metadata": {},
   "source": [
    "11. Write a query using the aggregation framework to calculate the average 'math_score' of all students."
   ]
  },
  {
   "cell_type": "code",
   "execution_count": null,
   "id": "8041c7fb",
   "metadata": {},
   "outputs": [],
   "source": [
    "average = [{\"$group\": {\"_id\": None, \"average_math_score\": {\"$avg\": \"$math_score\"}}}]\n",
    "\n",
    "result = stuinfo.aggregate(average)\n",
    "\n",
    "for student in result:\n",
    "    print(student)"
   ]
  },
  {
   "cell_type": "markdown",
   "id": "cf841104",
   "metadata": {},
   "source": [
    "12. Write a query to group students by 'city' and count the number of students in each city."
   ]
  },
  {
   "cell_type": "code",
   "execution_count": null,
   "id": "11c79007",
   "metadata": {},
   "outputs": [],
   "source": [
    "count = [\n",
    "    {\n",
    "        \"$group\": {\n",
    "            \"_id\": \"$city\",  \n",
    "            \"student_count\": {\"$sum\": 1} \n",
    "        }\n",
    "    }\n",
    "]\n",
    "result = stuinfo.aggregate(count)\n",
    "\n",
    "for students in result:\n",
    "    print(students)"
   ]
  },
  {
   "cell_type": "markdown",
   "id": "422ec61c",
   "metadata": {},
   "source": [
    "13. Write a query to find students who either have 'math_score' greater than 80 or 'physics_score' greater than 85."
   ]
  },
  {
   "cell_type": "code",
   "execution_count": null,
   "id": "260dcc6a",
   "metadata": {},
   "outputs": [],
   "source": [
    "for students in stuinfo.find({\"$or\": [{\"math_score\": {\"$gt\": 80}}, {\"physics_score\": {\"$gt\": 85}}]}): \n",
    "    print(students)"
   ]
  },
  {
   "cell_type": "markdown",
   "id": "ca4d6f63",
   "metadata": {},
   "source": [
    "14. Write a query to find students whose age is exactly 23 and live in 'Phoenix'."
   ]
  },
  {
   "cell_type": "code",
   "execution_count": null,
   "id": "8743c54d",
   "metadata": {},
   "outputs": [],
   "source": [
    "for student in stuinfo.find({\"$and\": [{\"age\": 23},{\"city\": \"Phoenix\"}]}):\n",
    "    print(student)"
   ]
  },
  {
   "cell_type": "markdown",
   "id": "2f871c8d",
   "metadata": {},
   "source": [
    "15. Write a query to find students whose 'math_score' is not equal to 85."
   ]
  },
  {
   "cell_type": "code",
   "execution_count": null,
   "id": "31dad59e",
   "metadata": {},
   "outputs": [],
   "source": [
    "for student in stuinfo.find({\"math_score\": {'$ne': 85}}):\n",
    "    print(student)"
   ]
  },
  {
   "cell_type": "markdown",
   "id": "60ea1681",
   "metadata": {},
   "source": [
    "16. Write a query to find students whose 'name' starts with the letter 'A'."
   ]
  },
  {
   "cell_type": "code",
   "execution_count": null,
   "id": "7bd53a1f",
   "metadata": {},
   "outputs": [],
   "source": [
    "for student in stuinfo.find({\"name\": {'$regex': '^A'}}):\n",
    "    print(student)"
   ]
  },
  {
   "cell_type": "markdown",
   "id": "ed20ebf4",
   "metadata": {},
   "source": [
    "17. Write a query to find students whose 'city' is neither 'New York' nor 'Los Angeles'."
   ]
  },
  {
   "cell_type": "code",
   "execution_count": null,
   "id": "756b4281",
   "metadata": {},
   "outputs": [],
   "source": [
    "for student in stuinfo.find({\"city\": {'$nin': ['New York', 'Los Angeles']}}):\n",
    "    print(student)"
   ]
  },
  {
   "cell_type": "markdown",
   "id": "02cbae8c",
   "metadata": {},
   "source": [
    "18. Write a query to update all students with 'age' greater than 22 to add a new field 'graduated': true."
   ]
  },
  {
   "cell_type": "code",
   "execution_count": null,
   "id": "24708ab9",
   "metadata": {},
   "outputs": [],
   "source": [
    "stuinfo.update_many( {\"age\": {\"$gt\": 22}}, {\"$set\": {\"graduated\": True}} )"
   ]
  },
  {
   "cell_type": "markdown",
   "id": "d2212656",
   "metadata": {},
   "source": [
    "19. Write a query to remove the 'physics_score' field for students who live in 'Chicago'."
   ]
  },
  {
   "cell_type": "code",
   "execution_count": null,
   "id": "eb52a26e",
   "metadata": {},
   "outputs": [],
   "source": [
    "stuinfo.update_many( {\"city\": \"Chicago\"}, {\"$unset\": {\"physics_score\": \"\"}} )"
   ]
  },
  {
   "cell_type": "markdown",
   "id": "29fcb8f8",
   "metadata": {},
   "source": [
    "20. Write a query to find the student with the highest 'math_score'."
   ]
  },
  {
   "cell_type": "code",
   "execution_count": null,
   "id": "4f647fd1",
   "metadata": {},
   "outputs": [],
   "source": [
    "for student in stuinfo.find().sort('math_score', -1).limit(1):\n",
    "    print(student)"
   ]
  }
 ],
 "metadata": {
  "kernelspec": {
   "display_name": "Python 3",
   "language": "python",
   "name": "python3"
  },
  "language_info": {
   "codemirror_mode": {
    "name": "ipython",
    "version": 3
   },
   "file_extension": ".py",
   "mimetype": "text/x-python",
   "name": "python",
   "nbconvert_exporter": "python",
   "pygments_lexer": "ipython3",
   "version": "3.11.9"
  }
 },
 "nbformat": 4,
 "nbformat_minor": 5
}
